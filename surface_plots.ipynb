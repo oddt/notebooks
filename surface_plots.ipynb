{
 "cells": [
  {
   "cell_type": "markdown",
   "metadata": {},
   "source": [
    "# Plotting molecular surfaces"
   ]
  },
  {
   "cell_type": "markdown",
   "metadata": {},
   "source": [
    "In this notebook we're going to visualise moleclar surfaces using oddt's `surface` module and `matplotlib`."
   ]
  },
  {
   "cell_type": "code",
   "execution_count": null,
   "metadata": {
    "collapsed": true
   },
   "outputs": [],
   "source": [
    "from __future__ import print_function, division, unicode_literals\n",
    "    \n",
    "import numpy as np\n",
    "import matplotlib.pyplot as plt\n",
    "from mpl_toolkits.mplot3d.art3d import Poly3DCollection\n",
    "import sys\n",
    "import oddt\n",
    "from oddt.surface import generate_surface_marching_cubes, find_surface_residues\n",
    "\n",
    "%matplotlib inline"
   ]
  },
  {
   "cell_type": "code",
   "execution_count": null,
   "metadata": {},
   "outputs": [],
   "source": [
    "print(sys.version)"
   ]
  },
  {
   "cell_type": "markdown",
   "metadata": {},
   "source": [
    "## Download files"
   ]
  },
  {
   "cell_type": "code",
   "execution_count": null,
   "metadata": {},
   "outputs": [],
   "source": [
    "%%bash\n",
    "wget -q www.pdbbind.org.cn/v2007/10gs/10gs_protein.pdb\n",
    "wget -q www.pdbbind.org.cn/v2007/10gs/10gs_ligand.mol2"
   ]
  },
  {
   "cell_type": "markdown",
   "metadata": {},
   "source": [
    "## Loading the molecules"
   ]
  },
  {
   "cell_type": "code",
   "execution_count": null,
   "metadata": {
    "collapsed": true
   },
   "outputs": [],
   "source": [
    "protein = next(oddt.toolkit.readfile('pdb', './10gs_protein.pdb'))\n",
    "ligand = next(oddt.toolkit.readfile('mol2', './10gs_ligand.mol2'))\n",
    "protein.protein = True"
   ]
  },
  {
   "cell_type": "markdown",
   "metadata": {},
   "source": [
    "## Generating surfaces"
   ]
  },
  {
   "cell_type": "markdown",
   "metadata": {},
   "source": [
    "We'll be using `generate_surface_marching_cubes` from `oddt.surface`. <br> It takes a `oddt.toolkit.Molecule` object and returns two arrays: \n",
    "- an array of vertices of the resulting mesh,  \n",
    "- an array of faces defined as references to those vertices."
   ]
  },
  {
   "cell_type": "code",
   "execution_count": null,
   "metadata": {},
   "outputs": [],
   "source": [
    "verts_protein, faces_protein = generate_surface_marching_cubes(protein, remove_hoh=True)"
   ]
  },
  {
   "cell_type": "code",
   "execution_count": null,
   "metadata": {
    "collapsed": true
   },
   "outputs": [],
   "source": [
    "# We're gonna use this later\n",
    "verts_ligand, faces_ligand = generate_surface_marching_cubes(ligand)"
   ]
  },
  {
   "cell_type": "markdown",
   "metadata": {},
   "source": [
    "## Plotting the surface"
   ]
  },
  {
   "cell_type": "markdown",
   "metadata": {},
   "source": [
    "Here, we're defining the boundries of our grid in which we're going to plot the molecule. <br>\n",
    "We can use coordinates of the vertices we generated"
   ]
  },
  {
   "cell_type": "code",
   "execution_count": null,
   "metadata": {
    "collapsed": true
   },
   "outputs": [],
   "source": [
    "# Scaled by 1.1 so that we have some room on each side of the molecule\n",
    "xlim_max, ylim_max, zlim_max = verts_protein.max(axis=0) * 1.1\n",
    "xlim_min, ylim_min, zlim_min = verts_protein.min(axis=0) * 1.1"
   ]
  },
  {
   "cell_type": "markdown",
   "metadata": {},
   "source": [
    "Here is the main part:\n",
    "1. First we create a figure object and add a subplot to it.\n",
    "2. We set the boundries for the figure.\n",
    "3. Then we create a Poly3DCollection object (representing our mesh) using the previously created vertex and face arrays.\n",
    "4. Finally we add that object to the figure and display it."
   ]
  },
  {
   "cell_type": "code",
   "execution_count": null,
   "metadata": {},
   "outputs": [],
   "source": [
    "# step 1\n",
    "fig = plt.figure(figsize=(20,20))\n",
    "ax = fig.add_subplot(111, projection='3d')\n",
    "# step 2\n",
    "ax.set_xlim(xlim_min, xlim_max)\n",
    "ax.set_ylim(ylim_min, ylim_max)\n",
    "ax.set_zlim(zlim_min, zlim_max)\n",
    "# step 3\n",
    "mesh_protein = Poly3DCollection(verts_protein[faces_protein])\n",
    "mesh_protein.set_edgecolor('k')\n",
    "# step 4\n",
    "ax.add_collection3d(mesh_protein) \n",
    "plt.tight_layout()"
   ]
  },
  {
   "cell_type": "markdown",
   "metadata": {},
   "source": [
    "Now, we could add many more different things to the plot. The basic steps that we'd have to repeat <br> every time are creating a figure object, adding a subplot to it, setting the plot boundries correctly. <br> Then we can add the things we'd like to draw.<br> For example, we could make the protein transparent and add its ligand to the plot."
   ]
  },
  {
   "cell_type": "code",
   "execution_count": null,
   "metadata": {},
   "outputs": [],
   "source": [
    "fig = plt.figure(figsize=(20,20))\n",
    "ax = fig.add_subplot(111, projection='3d')\n",
    "ax.set_xlim(xlim_min, xlim_max)\n",
    "ax.set_ylim(ylim_min, ylim_max)\n",
    "ax.set_zlim(zlim_min, zlim_max)\n",
    "# facecolors are formatted as (r, g, b, transparency),\n",
    "# with all those values being between 0 and 1.\n",
    "# Alpha controls the transparency of edges.\n",
    "mesh_protein = Poly3DCollection(verts_protein[faces_protein],\n",
    "                                facecolors=(0, 0, 1, 0.05),\n",
    "                                alpha=0.05)\n",
    "# 'k' is the same as 'black' here, 'b would be blue\n",
    "mesh_protein.set_edgecolor('k')\n",
    "mesh_ligand = Poly3DCollection(verts_ligand[faces_ligand])\n",
    "mesh_ligand.set_facecolor('r')\n",
    "ax.add_collection3d(mesh_protein)\n",
    "ax.add_collection3d(mesh_ligand)\n",
    "plt.tight_layout()"
   ]
  },
  {
   "cell_type": "markdown",
   "metadata": {},
   "source": [
    "Another thing we could do is show atoms (well, their centers rather) inside the shell.\n",
    "First let's see what kinds of atoms are there in our molecule."
   ]
  },
  {
   "cell_type": "code",
   "execution_count": null,
   "metadata": {},
   "outputs": [],
   "source": [
    "atom_dict = protein.atom_dict\n",
    "atom_dict = atom_dict[atom_dict['resname'] != 'HOH']\n",
    "np.unique(atom_dict['atomicnum'])"
   ]
  },
  {
   "cell_type": "markdown",
   "metadata": {},
   "source": [
    "We can now select them..."
   ]
  },
  {
   "cell_type": "code",
   "execution_count": null,
   "metadata": {},
   "outputs": [],
   "source": [
    "carbons = atom_dict[atom_dict['atomicnum'] == 6]['coords']\n",
    "nitrogens = atom_dict[atom_dict['atomicnum'] == 7]['coords']\n",
    "oxygens = atom_dict[atom_dict['atomicnum'] == 8]['coords']\n",
    "sulfurs = atom_dict[atom_dict['atomicnum'] == 16]['coords']"
   ]
  },
  {
   "cell_type": "markdown",
   "metadata": {},
   "source": [
    "...and plot them with `ax.scatter` "
   ]
  },
  {
   "cell_type": "code",
   "execution_count": null,
   "metadata": {},
   "outputs": [],
   "source": [
    "fig = plt.figure(figsize=(24,24))\n",
    "ax = fig.add_subplot(111, projection='3d')\n",
    "ax.set_xlim(xlim_min, xlim_max)\n",
    "ax.set_ylim(ylim_min, ylim_max)\n",
    "ax.set_zlim(zlim_min, zlim_max)\n",
    "mesh_protein = Poly3DCollection(verts_protein[faces_protein],\n",
    "                                facecolors=(0.05, 0.05, 0.05, 0.05),\n",
    "                                alpha=0.05)\n",
    "ax.scatter(*carbons.T, c='black')\n",
    "ax.scatter(*nitrogens.T, c='blue')\n",
    "ax.scatter(*oxygens.T, c='red')\n",
    "ax.scatter(*sulfurs.T, c='yellow')\n",
    "\n",
    "ax.add_collection3d(mesh_protein)\n",
    "plt.tight_layout()"
   ]
  }
 ],
 "metadata": {
  "kernelspec": {
   "display_name": "Python 3",
   "language": "python",
   "name": "python3"
  },
  "language_info": {
   "codemirror_mode": {
    "name": "ipython",
    "version": 3
   },
   "file_extension": ".py",
   "mimetype": "text/x-python",
   "name": "python",
   "nbconvert_exporter": "python",
   "pygments_lexer": "ipython3",
   "version": "3.6.1"
  }
 },
 "nbformat": 4,
 "nbformat_minor": 2
}
